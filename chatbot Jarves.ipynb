{
 "cells": [
  {
   "cell_type": "code",
   "execution_count": 1,
   "id": "19bc5946",
   "metadata": {},
   "outputs": [
    {
     "name": "stdout",
     "output_type": "stream",
     "text": [
      "Requirement already satisfied: flask in c:\\users\\acss\\anaconda3\\lib\\site-packages (2.2.2)\n",
      "Requirement already satisfied: Werkzeug>=2.2.2 in c:\\users\\acss\\anaconda3\\lib\\site-packages (from flask) (2.2.3)\n",
      "Requirement already satisfied: Jinja2>=3.0 in c:\\users\\acss\\anaconda3\\lib\\site-packages (from flask) (3.1.2)\n",
      "Requirement already satisfied: itsdangerous>=2.0 in c:\\users\\acss\\anaconda3\\lib\\site-packages (from flask) (2.0.1)\n",
      "Requirement already satisfied: click>=8.0 in c:\\users\\acss\\anaconda3\\lib\\site-packages (from flask) (8.0.4)\n",
      "Requirement already satisfied: colorama in c:\\users\\acss\\anaconda3\\lib\\site-packages (from click>=8.0->flask) (0.4.6)\n",
      "Requirement already satisfied: MarkupSafe>=2.0 in c:\\users\\acss\\anaconda3\\lib\\site-packages (from Jinja2>=3.0->flask) (2.1.1)\n"
     ]
    }
   ],
   "source": [
    "!pip install flask"
   ]
  },
  {
   "cell_type": "code",
   "execution_count": 3,
   "id": "f5cdc341",
   "metadata": {},
   "outputs": [],
   "source": [
    "from flask import Flask,request,jsonify\n",
    "import requests"
   ]
  },
  {
   "cell_type": "code",
   "execution_count": 6,
   "id": "f97aad1b",
   "metadata": {},
   "outputs": [
    {
     "name": "stdout",
     "output_type": "stream",
     "text": [
      "Collecting gunicornNote: you may need to restart the kernel to use updated packages.\n",
      "\n",
      "  Obtaining dependency information for gunicorn from https://files.pythonhosted.org/packages/0e/2a/c3a878eccb100ccddf45c50b6b8db8cf3301a6adede6e31d48e8531cab13/gunicorn-21.2.0-py3-none-any.whl.metadata\n",
      "  Downloading gunicorn-21.2.0-py3-none-any.whl.metadata (4.1 kB)\n",
      "Requirement already satisfied: packaging in c:\\users\\acss\\anaconda3\\lib\\site-packages (from gunicorn) (23.1)\n",
      "Downloading gunicorn-21.2.0-py3-none-any.whl (80 kB)\n",
      "   ---------------------------------------- 0.0/80.2 kB ? eta -:--:--\n",
      "   ---------------------------------------- 0.0/80.2 kB ? eta -:--:--\n",
      "   ----- ---------------------------------- 10.2/80.2 kB ? eta -:--:--\n",
      "   -------------------- ------------------- 41.0/80.2 kB 487.6 kB/s eta 0:00:01\n",
      "   ---------------------------------------- 80.2/80.2 kB 896.6 kB/s eta 0:00:00\n",
      "Installing collected packages: gunicorn\n",
      "Successfully installed gunicorn-21.2.0\n"
     ]
    }
   ],
   "source": [
    "pip install gunicorn\n"
   ]
  },
  {
   "cell_type": "code",
   "execution_count": null,
   "id": "59326031",
   "metadata": {},
   "outputs": [],
   "source": [
    "app = Flask(__name__)\n",
    "\n",
    "@app.route('/',methods=['POST'])\n",
    "def index():\n",
    "    data = request.get_json()\n",
    "    source_currency = data['queryResult']['parameters']['unit-currency']['currency']\n",
    "    amount = data['queryResult']['parameters']['unit-currency']['amount']\n",
    "    target_currency = data['queryResult']['parameters']['currency-name']\n",
    "\n",
    "\n",
    "    cf = fetch_conversion_factor(source_currency,target_currency)\n",
    "    final_amount = amount * cf\n",
    "    final_amount = round(final_amount,2)\n",
    "    response = {\n",
    "        'fulfillmentText':\"{} {} is {} {}\".format(amount,source_currency,final_amount,target_currency)\n",
    "    }\n",
    "    return jsonify(response)\n",
    "\n",
    "def fetch_conversion_factor(source,target):\n",
    "\n",
    "    url = \"https://free.currconv.com/api/v7/convert?q={}_{}&compact=ultra&apiKey=9aa0c54f5ad4c460c36d\".format(source,target)\n",
    "\n",
    "    response = requests.get(url)\n",
    "    response = response.json()\n",
    "\n",
    "    return response['{}_{}'.format(source,target)]\n",
    "\n",
    "\n",
    "if __name__ == \"__main__\":\n",
    "    app.run(debug=True)"
   ]
  }
 ],
 "metadata": {
  "kernelspec": {
   "display_name": "Python 3 (ipykernel)",
   "language": "python",
   "name": "python3"
  },
  "language_info": {
   "codemirror_mode": {
    "name": "ipython",
    "version": 3
   },
   "file_extension": ".py",
   "mimetype": "text/x-python",
   "name": "python",
   "nbconvert_exporter": "python",
   "pygments_lexer": "ipython3",
   "version": "3.11.5"
  }
 },
 "nbformat": 4,
 "nbformat_minor": 5
}
